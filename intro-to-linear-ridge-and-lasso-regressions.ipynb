{
 "cells": [
  {
   "cell_type": "markdown",
   "metadata": {},
   "source": [
    "> ## **Introduction**\n",
    "\n",
    "This kernel will go through the below regression techniques:\n",
    "* Linear Regression\n",
    "* Ridge Regression\n",
    "* Lasso Regression\n",
    "* Elastic Net Regression\n",
    " \n",
    " Go through the link to understand all the Regression techniques:\n",
    "   [Beginner Guide to Regression techniques](https://www.analyticsvidhya.com/blog/2017/06/a-comprehensive-guide-for-linear-ridge-and-lasso-regression/)"
   ]
  },
  {
   "cell_type": "code",
   "execution_count": 1,
   "metadata": {
    "_cell_guid": "b1076dfc-b9ad-4769-8c92-a6c4dae69d19",
    "_uuid": "8f2839f25d086af736a60e9eeb907d3b93b6e0e5"
   },
   "outputs": [
    {
     "name": "stdout",
     "output_type": "stream",
     "text": [
      "['Automobile_data.csv']\n"
     ]
    }
   ],
   "source": [
    "# This Python 3 environment comes with many helpful analytics libraries installed\n",
    "# It is defined by the kaggle/python docker image: https://github.com/kaggle/docker-python\n",
    "# For example, here's several helpful packages to load in \n",
    "\n",
    "import numpy as np # linear algebra\n",
    "import pandas as pd # data processing, CSV file I/O (e.g. pd.read_csv)\n",
    "\n",
    "# Input data files are available in the \"../input/\" directory.\n",
    "# For example, running this (by clicking run or pressing Shift+Enter) will list the files in the input directory\n",
    "\n",
    "import os\n",
    "print(os.listdir(\"../input\"))\n",
    "\n",
    "# Any results you write to the current directory are saved as output."
   ]
  },
  {
   "cell_type": "code",
   "execution_count": 2,
   "metadata": {
    "_cell_guid": "79c7e3d0-c299-4dcb-8224-4455121ee9b0",
    "_uuid": "d629ff2d2480ee46fbb7e2d37f6b5fab8052498a"
   },
   "outputs": [
    {
     "data": {
      "text/plain": [
       "['symboling',\n",
       " 'normalized-losses',\n",
       " 'make',\n",
       " 'fuel-type',\n",
       " 'aspiration',\n",
       " 'num-of-doors',\n",
       " 'body-style',\n",
       " 'drive-wheels',\n",
       " 'engine-location',\n",
       " 'wheel-base',\n",
       " 'length',\n",
       " 'width',\n",
       " 'height',\n",
       " 'curb-weight',\n",
       " 'engine-type',\n",
       " 'num-of-cylinders',\n",
       " 'engine-size',\n",
       " 'fuel-system',\n",
       " 'bore',\n",
       " 'stroke',\n",
       " 'compression-ratio',\n",
       " 'horsepower',\n",
       " 'peak-rpm',\n",
       " 'city-mpg',\n",
       " 'highway-mpg',\n",
       " 'price']"
      ]
     },
     "execution_count": 2,
     "metadata": {},
     "output_type": "execute_result"
    }
   ],
   "source": [
    "data = pd.read_csv('../input/Automobile_data.csv')\n",
    "list(data)"
   ]
  },
  {
   "cell_type": "code",
   "execution_count": 3,
   "metadata": {},
   "outputs": [],
   "source": [
    "data['horsepower'] = pd.to_numeric(data['horsepower'], errors = 'coerce')\n",
    "data['price'] = pd.to_numeric(data['price'], errors = 'coerce')\n",
    "# data.any().isna()\n",
    "data.dropna(subset=['price', 'horsepower'], inplace=True)\n",
    "# type(data['horsepower'][1])"
   ]
  },
  {
   "cell_type": "code",
   "execution_count": 4,
   "metadata": {},
   "outputs": [
    {
     "data": {
      "text/plain": [
       "0    111.0\n",
       "1    111.0\n",
       "2    154.0\n",
       "3    102.0\n",
       "4    115.0\n",
       "Name: horsepower, dtype: float64"
      ]
     },
     "execution_count": 4,
     "metadata": {},
     "output_type": "execute_result"
    }
   ],
   "source": [
    "from scipy.stats.stats import pearsonr\n",
    "pearsonr(data['horsepower'], data['price'])\n",
    "data['horsepower'].head()"
   ]
  },
  {
   "cell_type": "code",
   "execution_count": 5,
   "metadata": {},
   "outputs": [
    {
     "data": {
      "text/html": [
       "\n",
       "    <div class=\"bk-root\">\n",
       "        <a href=\"https://bokeh.pydata.org\" target=\"_blank\" class=\"bk-logo bk-logo-small bk-logo-notebook\"></a>\n",
       "        <span id=\"1001\">Loading BokehJS ...</span>\n",
       "    </div>"
      ]
     },
     "metadata": {},
     "output_type": "display_data"
    },
    {
     "data": {
      "application/javascript": [
       "\n",
       "(function(root) {\n",
       "  function now() {\n",
       "    return new Date();\n",
       "  }\n",
       "\n",
       "  var force = true;\n",
       "\n",
       "  if (typeof root._bokeh_onload_callbacks === \"undefined\" || force === true) {\n",
       "    root._bokeh_onload_callbacks = [];\n",
       "    root._bokeh_is_loading = undefined;\n",
       "  }\n",
       "\n",
       "  var JS_MIME_TYPE = 'application/javascript';\n",
       "  var HTML_MIME_TYPE = 'text/html';\n",
       "  var EXEC_MIME_TYPE = 'application/vnd.bokehjs_exec.v0+json';\n",
       "  var CLASS_NAME = 'output_bokeh rendered_html';\n",
       "\n",
       "  /**\n",
       "   * Render data to the DOM node\n",
       "   */\n",
       "  function render(props, node) {\n",
       "    var script = document.createElement(\"script\");\n",
       "    node.appendChild(script);\n",
       "  }\n",
       "\n",
       "  /**\n",
       "   * Handle when an output is cleared or removed\n",
       "   */\n",
       "  function handleClearOutput(event, handle) {\n",
       "    var cell = handle.cell;\n",
       "\n",
       "    var id = cell.output_area._bokeh_element_id;\n",
       "    var server_id = cell.output_area._bokeh_server_id;\n",
       "    // Clean up Bokeh references\n",
       "    if (id != null && id in Bokeh.index) {\n",
       "      Bokeh.index[id].model.document.clear();\n",
       "      delete Bokeh.index[id];\n",
       "    }\n",
       "\n",
       "    if (server_id !== undefined) {\n",
       "      // Clean up Bokeh references\n",
       "      var cmd = \"from bokeh.io.state import curstate; print(curstate().uuid_to_server['\" + server_id + \"'].get_sessions()[0].document.roots[0]._id)\";\n",
       "      cell.notebook.kernel.execute(cmd, {\n",
       "        iopub: {\n",
       "          output: function(msg) {\n",
       "            var id = msg.content.text.trim();\n",
       "            if (id in Bokeh.index) {\n",
       "              Bokeh.index[id].model.document.clear();\n",
       "              delete Bokeh.index[id];\n",
       "            }\n",
       "          }\n",
       "        }\n",
       "      });\n",
       "      // Destroy server and session\n",
       "      var cmd = \"import bokeh.io.notebook as ion; ion.destroy_server('\" + server_id + \"')\";\n",
       "      cell.notebook.kernel.execute(cmd);\n",
       "    }\n",
       "  }\n",
       "\n",
       "  /**\n",
       "   * Handle when a new output is added\n",
       "   */\n",
       "  function handleAddOutput(event, handle) {\n",
       "    var output_area = handle.output_area;\n",
       "    var output = handle.output;\n",
       "\n",
       "    // limit handleAddOutput to display_data with EXEC_MIME_TYPE content only\n",
       "    if ((output.output_type != \"display_data\") || (!output.data.hasOwnProperty(EXEC_MIME_TYPE))) {\n",
       "      return\n",
       "    }\n",
       "\n",
       "    var toinsert = output_area.element.find(\".\" + CLASS_NAME.split(' ')[0]);\n",
       "\n",
       "    if (output.metadata[EXEC_MIME_TYPE][\"id\"] !== undefined) {\n",
       "      toinsert[toinsert.length - 1].firstChild.textContent = output.data[JS_MIME_TYPE];\n",
       "      // store reference to embed id on output_area\n",
       "      output_area._bokeh_element_id = output.metadata[EXEC_MIME_TYPE][\"id\"];\n",
       "    }\n",
       "    if (output.metadata[EXEC_MIME_TYPE][\"server_id\"] !== undefined) {\n",
       "      var bk_div = document.createElement(\"div\");\n",
       "      bk_div.innerHTML = output.data[HTML_MIME_TYPE];\n",
       "      var script_attrs = bk_div.children[0].attributes;\n",
       "      for (var i = 0; i < script_attrs.length; i++) {\n",
       "        toinsert[toinsert.length - 1].firstChild.setAttribute(script_attrs[i].name, script_attrs[i].value);\n",
       "      }\n",
       "      // store reference to server id on output_area\n",
       "      output_area._bokeh_server_id = output.metadata[EXEC_MIME_TYPE][\"server_id\"];\n",
       "    }\n",
       "  }\n",
       "\n",
       "  function register_renderer(events, OutputArea) {\n",
       "\n",
       "    function append_mime(data, metadata, element) {\n",
       "      // create a DOM node to render to\n",
       "      var toinsert = this.create_output_subarea(\n",
       "        metadata,\n",
       "        CLASS_NAME,\n",
       "        EXEC_MIME_TYPE\n",
       "      );\n",
       "      this.keyboard_manager.register_events(toinsert);\n",
       "      // Render to node\n",
       "      var props = {data: data, metadata: metadata[EXEC_MIME_TYPE]};\n",
       "      render(props, toinsert[toinsert.length - 1]);\n",
       "      element.append(toinsert);\n",
       "      return toinsert\n",
       "    }\n",
       "\n",
       "    /* Handle when an output is cleared or removed */\n",
       "    events.on('clear_output.CodeCell', handleClearOutput);\n",
       "    events.on('delete.Cell', handleClearOutput);\n",
       "\n",
       "    /* Handle when a new output is added */\n",
       "    events.on('output_added.OutputArea', handleAddOutput);\n",
       "\n",
       "    /**\n",
       "     * Register the mime type and append_mime function with output_area\n",
       "     */\n",
       "    OutputArea.prototype.register_mime_type(EXEC_MIME_TYPE, append_mime, {\n",
       "      /* Is output safe? */\n",
       "      safe: true,\n",
       "      /* Index of renderer in `output_area.display_order` */\n",
       "      index: 0\n",
       "    });\n",
       "  }\n",
       "\n",
       "  // register the mime type if in Jupyter Notebook environment and previously unregistered\n",
       "  if (root.Jupyter !== undefined) {\n",
       "    var events = require('base/js/events');\n",
       "    var OutputArea = require('notebook/js/outputarea').OutputArea;\n",
       "\n",
       "    if (OutputArea.prototype.mime_types().indexOf(EXEC_MIME_TYPE) == -1) {\n",
       "      register_renderer(events, OutputArea);\n",
       "    }\n",
       "  }\n",
       "\n",
       "  \n",
       "  if (typeof (root._bokeh_timeout) === \"undefined\" || force === true) {\n",
       "    root._bokeh_timeout = Date.now() + 5000;\n",
       "    root._bokeh_failed_load = false;\n",
       "  }\n",
       "\n",
       "  var NB_LOAD_WARNING = {'data': {'text/html':\n",
       "     \"<div style='background-color: #fdd'>\\n\"+\n",
       "     \"<p>\\n\"+\n",
       "     \"BokehJS does not appear to have successfully loaded. If loading BokehJS from CDN, this \\n\"+\n",
       "     \"may be due to a slow or bad network connection. Possible fixes:\\n\"+\n",
       "     \"</p>\\n\"+\n",
       "     \"<ul>\\n\"+\n",
       "     \"<li>re-rerun `output_notebook()` to attempt to load from CDN again, or</li>\\n\"+\n",
       "     \"<li>use INLINE resources instead, as so:</li>\\n\"+\n",
       "     \"</ul>\\n\"+\n",
       "     \"<code>\\n\"+\n",
       "     \"from bokeh.resources import INLINE\\n\"+\n",
       "     \"output_notebook(resources=INLINE)\\n\"+\n",
       "     \"</code>\\n\"+\n",
       "     \"</div>\"}};\n",
       "\n",
       "  function display_loaded() {\n",
       "    var el = document.getElementById(\"1001\");\n",
       "    if (el != null) {\n",
       "      el.textContent = \"BokehJS is loading...\";\n",
       "    }\n",
       "    if (root.Bokeh !== undefined) {\n",
       "      if (el != null) {\n",
       "        el.textContent = \"BokehJS \" + root.Bokeh.version + \" successfully loaded.\";\n",
       "      }\n",
       "    } else if (Date.now() < root._bokeh_timeout) {\n",
       "      setTimeout(display_loaded, 100)\n",
       "    }\n",
       "  }\n",
       "\n",
       "\n",
       "  function run_callbacks() {\n",
       "    try {\n",
       "      root._bokeh_onload_callbacks.forEach(function(callback) {\n",
       "        if (callback != null)\n",
       "          callback();\n",
       "      });\n",
       "    } finally {\n",
       "      delete root._bokeh_onload_callbacks\n",
       "    }\n",
       "    console.debug(\"Bokeh: all callbacks have finished\");\n",
       "  }\n",
       "\n",
       "  function load_libs(css_urls, js_urls, callback) {\n",
       "    if (css_urls == null) css_urls = [];\n",
       "    if (js_urls == null) js_urls = [];\n",
       "\n",
       "    root._bokeh_onload_callbacks.push(callback);\n",
       "    if (root._bokeh_is_loading > 0) {\n",
       "      console.debug(\"Bokeh: BokehJS is being loaded, scheduling callback at\", now());\n",
       "      return null;\n",
       "    }\n",
       "    if (js_urls == null || js_urls.length === 0) {\n",
       "      run_callbacks();\n",
       "      return null;\n",
       "    }\n",
       "    console.debug(\"Bokeh: BokehJS not loaded, scheduling load and callback at\", now());\n",
       "    root._bokeh_is_loading = css_urls.length + js_urls.length;\n",
       "\n",
       "    function on_load() {\n",
       "      root._bokeh_is_loading--;\n",
       "      if (root._bokeh_is_loading === 0) {\n",
       "        console.debug(\"Bokeh: all BokehJS libraries/stylesheets loaded\");\n",
       "        run_callbacks()\n",
       "      }\n",
       "    }\n",
       "\n",
       "    function on_error() {\n",
       "      console.error(\"failed to load \" + url);\n",
       "    }\n",
       "\n",
       "    for (var i = 0; i < css_urls.length; i++) {\n",
       "      var url = css_urls[i];\n",
       "      const element = document.createElement(\"link\");\n",
       "      element.onload = on_load;\n",
       "      element.onerror = on_error;\n",
       "      element.rel = \"stylesheet\";\n",
       "      element.type = \"text/css\";\n",
       "      element.href = url;\n",
       "      console.debug(\"Bokeh: injecting link tag for BokehJS stylesheet: \", url);\n",
       "      document.body.appendChild(element);\n",
       "    }\n",
       "\n",
       "    for (var i = 0; i < js_urls.length; i++) {\n",
       "      var url = js_urls[i];\n",
       "      var element = document.createElement('script');\n",
       "      element.onload = on_load;\n",
       "      element.onerror = on_error;\n",
       "      element.async = false;\n",
       "      element.src = url;\n",
       "      console.debug(\"Bokeh: injecting script tag for BokehJS library: \", url);\n",
       "      document.head.appendChild(element);\n",
       "    }\n",
       "  };var element = document.getElementById(\"1001\");\n",
       "  if (element == null) {\n",
       "    console.error(\"Bokeh: ERROR: autoload.js configured with elementid '1001' but no matching script tag was found. \")\n",
       "    return false;\n",
       "  }\n",
       "\n",
       "  function inject_raw_css(css) {\n",
       "    const element = document.createElement(\"style\");\n",
       "    element.appendChild(document.createTextNode(css));\n",
       "    document.body.appendChild(element);\n",
       "  }\n",
       "\n",
       "  var js_urls = [\"https://cdn.pydata.org/bokeh/release/bokeh-1.1.0.min.js\", \"https://cdn.pydata.org/bokeh/release/bokeh-widgets-1.1.0.min.js\", \"https://cdn.pydata.org/bokeh/release/bokeh-tables-1.1.0.min.js\", \"https://cdn.pydata.org/bokeh/release/bokeh-gl-1.1.0.min.js\"];\n",
       "  var css_urls = [\"https://cdn.pydata.org/bokeh/release/bokeh-1.1.0.min.css\", \"https://cdn.pydata.org/bokeh/release/bokeh-widgets-1.1.0.min.css\", \"https://cdn.pydata.org/bokeh/release/bokeh-tables-1.1.0.min.css\"];\n",
       "\n",
       "  var inline_js = [\n",
       "    function(Bokeh) {\n",
       "      Bokeh.set_log_level(\"info\");\n",
       "    },\n",
       "    \n",
       "    function(Bokeh) {\n",
       "      \n",
       "    },\n",
       "    function(Bokeh) {} // ensure no trailing comma for IE\n",
       "  ];\n",
       "\n",
       "  function run_inline_js() {\n",
       "    \n",
       "    if ((root.Bokeh !== undefined) || (force === true)) {\n",
       "      for (var i = 0; i < inline_js.length; i++) {\n",
       "        inline_js[i].call(root, root.Bokeh);\n",
       "      }if (force === true) {\n",
       "        display_loaded();\n",
       "      }} else if (Date.now() < root._bokeh_timeout) {\n",
       "      setTimeout(run_inline_js, 100);\n",
       "    } else if (!root._bokeh_failed_load) {\n",
       "      console.log(\"Bokeh: BokehJS failed to load within specified timeout.\");\n",
       "      root._bokeh_failed_load = true;\n",
       "    } else if (force !== true) {\n",
       "      var cell = $(document.getElementById(\"1001\")).parents('.cell').data().cell;\n",
       "      cell.output_area.append_execute_result(NB_LOAD_WARNING)\n",
       "    }\n",
       "\n",
       "  }\n",
       "\n",
       "  if (root._bokeh_is_loading === 0) {\n",
       "    console.debug(\"Bokeh: BokehJS loaded, going straight to plotting\");\n",
       "    run_inline_js();\n",
       "  } else {\n",
       "    load_libs(css_urls, js_urls, function() {\n",
       "      console.debug(\"Bokeh: BokehJS plotting callback run at\", now());\n",
       "      run_inline_js();\n",
       "    });\n",
       "  }\n",
       "}(window));"
      ],
      "application/vnd.bokehjs_load.v0+json": "\n(function(root) {\n  function now() {\n    return new Date();\n  }\n\n  var force = true;\n\n  if (typeof root._bokeh_onload_callbacks === \"undefined\" || force === true) {\n    root._bokeh_onload_callbacks = [];\n    root._bokeh_is_loading = undefined;\n  }\n\n  \n\n  \n  if (typeof (root._bokeh_timeout) === \"undefined\" || force === true) {\n    root._bokeh_timeout = Date.now() + 5000;\n    root._bokeh_failed_load = false;\n  }\n\n  var NB_LOAD_WARNING = {'data': {'text/html':\n     \"<div style='background-color: #fdd'>\\n\"+\n     \"<p>\\n\"+\n     \"BokehJS does not appear to have successfully loaded. If loading BokehJS from CDN, this \\n\"+\n     \"may be due to a slow or bad network connection. Possible fixes:\\n\"+\n     \"</p>\\n\"+\n     \"<ul>\\n\"+\n     \"<li>re-rerun `output_notebook()` to attempt to load from CDN again, or</li>\\n\"+\n     \"<li>use INLINE resources instead, as so:</li>\\n\"+\n     \"</ul>\\n\"+\n     \"<code>\\n\"+\n     \"from bokeh.resources import INLINE\\n\"+\n     \"output_notebook(resources=INLINE)\\n\"+\n     \"</code>\\n\"+\n     \"</div>\"}};\n\n  function display_loaded() {\n    var el = document.getElementById(\"1001\");\n    if (el != null) {\n      el.textContent = \"BokehJS is loading...\";\n    }\n    if (root.Bokeh !== undefined) {\n      if (el != null) {\n        el.textContent = \"BokehJS \" + root.Bokeh.version + \" successfully loaded.\";\n      }\n    } else if (Date.now() < root._bokeh_timeout) {\n      setTimeout(display_loaded, 100)\n    }\n  }\n\n\n  function run_callbacks() {\n    try {\n      root._bokeh_onload_callbacks.forEach(function(callback) {\n        if (callback != null)\n          callback();\n      });\n    } finally {\n      delete root._bokeh_onload_callbacks\n    }\n    console.debug(\"Bokeh: all callbacks have finished\");\n  }\n\n  function load_libs(css_urls, js_urls, callback) {\n    if (css_urls == null) css_urls = [];\n    if (js_urls == null) js_urls = [];\n\n    root._bokeh_onload_callbacks.push(callback);\n    if (root._bokeh_is_loading > 0) {\n      console.debug(\"Bokeh: BokehJS is being loaded, scheduling callback at\", now());\n      return null;\n    }\n    if (js_urls == null || js_urls.length === 0) {\n      run_callbacks();\n      return null;\n    }\n    console.debug(\"Bokeh: BokehJS not loaded, scheduling load and callback at\", now());\n    root._bokeh_is_loading = css_urls.length + js_urls.length;\n\n    function on_load() {\n      root._bokeh_is_loading--;\n      if (root._bokeh_is_loading === 0) {\n        console.debug(\"Bokeh: all BokehJS libraries/stylesheets loaded\");\n        run_callbacks()\n      }\n    }\n\n    function on_error() {\n      console.error(\"failed to load \" + url);\n    }\n\n    for (var i = 0; i < css_urls.length; i++) {\n      var url = css_urls[i];\n      const element = document.createElement(\"link\");\n      element.onload = on_load;\n      element.onerror = on_error;\n      element.rel = \"stylesheet\";\n      element.type = \"text/css\";\n      element.href = url;\n      console.debug(\"Bokeh: injecting link tag for BokehJS stylesheet: \", url);\n      document.body.appendChild(element);\n    }\n\n    for (var i = 0; i < js_urls.length; i++) {\n      var url = js_urls[i];\n      var element = document.createElement('script');\n      element.onload = on_load;\n      element.onerror = on_error;\n      element.async = false;\n      element.src = url;\n      console.debug(\"Bokeh: injecting script tag for BokehJS library: \", url);\n      document.head.appendChild(element);\n    }\n  };var element = document.getElementById(\"1001\");\n  if (element == null) {\n    console.error(\"Bokeh: ERROR: autoload.js configured with elementid '1001' but no matching script tag was found. \")\n    return false;\n  }\n\n  function inject_raw_css(css) {\n    const element = document.createElement(\"style\");\n    element.appendChild(document.createTextNode(css));\n    document.body.appendChild(element);\n  }\n\n  var js_urls = [\"https://cdn.pydata.org/bokeh/release/bokeh-1.1.0.min.js\", \"https://cdn.pydata.org/bokeh/release/bokeh-widgets-1.1.0.min.js\", \"https://cdn.pydata.org/bokeh/release/bokeh-tables-1.1.0.min.js\", \"https://cdn.pydata.org/bokeh/release/bokeh-gl-1.1.0.min.js\"];\n  var css_urls = [\"https://cdn.pydata.org/bokeh/release/bokeh-1.1.0.min.css\", \"https://cdn.pydata.org/bokeh/release/bokeh-widgets-1.1.0.min.css\", \"https://cdn.pydata.org/bokeh/release/bokeh-tables-1.1.0.min.css\"];\n\n  var inline_js = [\n    function(Bokeh) {\n      Bokeh.set_log_level(\"info\");\n    },\n    \n    function(Bokeh) {\n      \n    },\n    function(Bokeh) {} // ensure no trailing comma for IE\n  ];\n\n  function run_inline_js() {\n    \n    if ((root.Bokeh !== undefined) || (force === true)) {\n      for (var i = 0; i < inline_js.length; i++) {\n        inline_js[i].call(root, root.Bokeh);\n      }if (force === true) {\n        display_loaded();\n      }} else if (Date.now() < root._bokeh_timeout) {\n      setTimeout(run_inline_js, 100);\n    } else if (!root._bokeh_failed_load) {\n      console.log(\"Bokeh: BokehJS failed to load within specified timeout.\");\n      root._bokeh_failed_load = true;\n    } else if (force !== true) {\n      var cell = $(document.getElementById(\"1001\")).parents('.cell').data().cell;\n      cell.output_area.append_execute_result(NB_LOAD_WARNING)\n    }\n\n  }\n\n  if (root._bokeh_is_loading === 0) {\n    console.debug(\"Bokeh: BokehJS loaded, going straight to plotting\");\n    run_inline_js();\n  } else {\n    load_libs(css_urls, js_urls, function() {\n      console.debug(\"Bokeh: BokehJS plotting callback run at\", now());\n      run_inline_js();\n    });\n  }\n}(window));"
     },
     "metadata": {},
     "output_type": "display_data"
    },
    {
     "data": {
      "text/html": [
       "\n",
       "\n",
       "\n",
       "\n",
       "\n",
       "\n",
       "  <div class=\"bk-root\" id=\"cf8f35fc-8a6d-4342-848b-7f9077f2b148\" data-root-id=\"1003\"></div>\n"
      ]
     },
     "metadata": {},
     "output_type": "display_data"
    },
    {
     "data": {
      "application/javascript": [
       "(function(root) {\n",
       "  function embed_document(root) {\n",
       "    \n",
       "  var docs_json = {\"7c949832-dfd0-44f7-b6fb-2e53e3c6b40d\":{\"roots\":{\"references\":[{\"attributes\":{\"below\":[{\"id\":\"1012\",\"type\":\"LinearAxis\"}],\"center\":[{\"id\":\"1016\",\"type\":\"Grid\"},{\"id\":\"1021\",\"type\":\"Grid\"}],\"left\":[{\"id\":\"1017\",\"type\":\"LinearAxis\"}],\"plot_height\":400,\"renderers\":[{\"id\":\"1040\",\"type\":\"GlyphRenderer\"}],\"title\":{\"id\":\"1043\",\"type\":\"Title\"},\"toolbar\":{\"id\":\"1029\",\"type\":\"Toolbar\"},\"x_range\":{\"id\":\"1004\",\"type\":\"DataRange1d\"},\"x_scale\":{\"id\":\"1008\",\"type\":\"LinearScale\"},\"y_range\":{\"id\":\"1006\",\"type\":\"DataRange1d\"},\"y_scale\":{\"id\":\"1010\",\"type\":\"LinearScale\"}},\"id\":\"1003\",\"subtype\":\"Figure\",\"type\":\"Plot\"},{\"attributes\":{\"axis_label\":\"Price\",\"formatter\":{\"id\":\"1046\",\"type\":\"BasicTickFormatter\"},\"ticker\":{\"id\":\"1018\",\"type\":\"BasicTicker\"}},\"id\":\"1017\",\"type\":\"LinearAxis\"},{\"attributes\":{},\"id\":\"1046\",\"type\":\"BasicTickFormatter\"},{\"attributes\":{},\"id\":\"1018\",\"type\":\"BasicTicker\"},{\"attributes\":{\"fill_alpha\":{\"value\":0.5},\"fill_color\":{\"value\":\"blue\"},\"line_alpha\":{\"value\":0.5},\"line_color\":{\"value\":\"blue\"},\"size\":{\"units\":\"screen\",\"value\":8},\"x\":{\"field\":\"x\"},\"y\":{\"field\":\"y\"}},\"id\":\"1038\",\"type\":\"Circle\"},{\"attributes\":{\"bottom_units\":\"screen\",\"fill_alpha\":{\"value\":0.5},\"fill_color\":{\"value\":\"lightgrey\"},\"left_units\":\"screen\",\"level\":\"overlay\",\"line_alpha\":{\"value\":1.0},\"line_color\":{\"value\":\"black\"},\"line_dash\":[4,4],\"line_width\":{\"value\":2},\"render_mode\":\"css\",\"right_units\":\"screen\",\"top_units\":\"screen\"},\"id\":\"1048\",\"type\":\"BoxAnnotation\"},{\"attributes\":{\"dimension\":1,\"ticker\":{\"id\":\"1018\",\"type\":\"BasicTicker\"}},\"id\":\"1021\",\"type\":\"Grid\"},{\"attributes\":{},\"id\":\"1049\",\"type\":\"Selection\"},{\"attributes\":{\"active_drag\":\"auto\",\"active_inspect\":\"auto\",\"active_multi\":null,\"active_scroll\":\"auto\",\"active_tap\":\"auto\",\"tools\":[{\"id\":\"1022\",\"type\":\"PanTool\"},{\"id\":\"1023\",\"type\":\"WheelZoomTool\"},{\"id\":\"1024\",\"type\":\"BoxZoomTool\"},{\"id\":\"1025\",\"type\":\"SaveTool\"},{\"id\":\"1026\",\"type\":\"ResetTool\"},{\"id\":\"1027\",\"type\":\"HelpTool\"},{\"id\":\"1028\",\"type\":\"HoverTool\"}]},\"id\":\"1029\",\"type\":\"Toolbar\"},{\"attributes\":{},\"id\":\"1050\",\"type\":\"UnionRenderers\"},{\"attributes\":{},\"id\":\"1022\",\"type\":\"PanTool\"},{\"attributes\":{},\"id\":\"1023\",\"type\":\"WheelZoomTool\"},{\"attributes\":{\"overlay\":{\"id\":\"1048\",\"type\":\"BoxAnnotation\"}},\"id\":\"1024\",\"type\":\"BoxZoomTool\"},{\"attributes\":{\"data_source\":{\"id\":\"1002\",\"type\":\"ColumnDataSource\"},\"glyph\":{\"id\":\"1038\",\"type\":\"Circle\"},\"hover_glyph\":null,\"muted_glyph\":null,\"nonselection_glyph\":{\"id\":\"1039\",\"type\":\"Circle\"},\"selection_glyph\":null,\"view\":{\"id\":\"1041\",\"type\":\"CDSView\"}},\"id\":\"1040\",\"type\":\"GlyphRenderer\"},{\"attributes\":{},\"id\":\"1025\",\"type\":\"SaveTool\"},{\"attributes\":{},\"id\":\"1026\",\"type\":\"ResetTool\"},{\"attributes\":{\"callback\":null,\"data\":{\"make\":[\"alfa-romero\",\"alfa-romero\",\"alfa-romero\",\"audi\",\"audi\",\"audi\",\"audi\",\"audi\",\"audi\",\"bmw\",\"bmw\",\"bmw\",\"bmw\",\"bmw\",\"bmw\",\"bmw\",\"bmw\",\"chevrolet\",\"chevrolet\",\"chevrolet\",\"dodge\",\"dodge\",\"dodge\",\"dodge\",\"dodge\",\"dodge\",\"dodge\",\"dodge\",\"dodge\",\"honda\",\"honda\",\"honda\",\"honda\",\"honda\",\"honda\",\"honda\",\"honda\",\"honda\",\"honda\",\"honda\",\"honda\",\"honda\",\"isuzu\",\"isuzu\",\"jaguar\",\"jaguar\",\"jaguar\",\"mazda\",\"mazda\",\"mazda\",\"mazda\",\"mazda\",\"mazda\",\"mazda\",\"mazda\",\"mazda\",\"mazda\",\"mazda\",\"mazda\",\"mazda\",\"mazda\",\"mazda\",\"mazda\",\"mazda\",\"mercedes-benz\",\"mercedes-benz\",\"mercedes-benz\",\"mercedes-benz\",\"mercedes-benz\",\"mercedes-benz\",\"mercedes-benz\",\"mercedes-benz\",\"mercury\",\"mitsubishi\",\"mitsubishi\",\"mitsubishi\",\"mitsubishi\",\"mitsubishi\",\"mitsubishi\",\"mitsubishi\",\"mitsubishi\",\"mitsubishi\",\"mitsubishi\",\"mitsubishi\",\"mitsubishi\",\"mitsubishi\",\"nissan\",\"nissan\",\"nissan\",\"nissan\",\"nissan\",\"nissan\",\"nissan\",\"nissan\",\"nissan\",\"nissan\",\"nissan\",\"nissan\",\"nissan\",\"nissan\",\"nissan\",\"nissan\",\"nissan\",\"nissan\",\"peugot\",\"peugot\",\"peugot\",\"peugot\",\"peugot\",\"peugot\",\"peugot\",\"peugot\",\"peugot\",\"peugot\",\"peugot\",\"plymouth\",\"plymouth\",\"plymouth\",\"plymouth\",\"plymouth\",\"plymouth\",\"plymouth\",\"porsche\",\"porsche\",\"porsche\",\"porsche\",\"saab\",\"saab\",\"saab\",\"saab\",\"saab\",\"saab\",\"subaru\",\"subaru\",\"subaru\",\"subaru\",\"subaru\",\"subaru\",\"subaru\",\"subaru\",\"subaru\",\"subaru\",\"subaru\",\"subaru\",\"toyota\",\"toyota\",\"toyota\",\"toyota\",\"toyota\",\"toyota\",\"toyota\",\"toyota\",\"toyota\",\"toyota\",\"toyota\",\"toyota\",\"toyota\",\"toyota\",\"toyota\",\"toyota\",\"toyota\",\"toyota\",\"toyota\",\"toyota\",\"toyota\",\"toyota\",\"toyota\",\"toyota\",\"toyota\",\"toyota\",\"toyota\",\"toyota\",\"toyota\",\"toyota\",\"toyota\",\"toyota\",\"volkswagen\",\"volkswagen\",\"volkswagen\",\"volkswagen\",\"volkswagen\",\"volkswagen\",\"volkswagen\",\"volkswagen\",\"volkswagen\",\"volkswagen\",\"volkswagen\",\"volkswagen\",\"volvo\",\"volvo\",\"volvo\",\"volvo\",\"volvo\",\"volvo\",\"volvo\",\"volvo\",\"volvo\",\"volvo\",\"volvo\"],\"x\":{\"__ndarray__\":\"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\",\"dtype\":\"float64\",\"shape\":[199]},\"y\":{\"__ndarray__\":\"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\",\"dtype\":\"float64\",\"shape\":[199]}},\"selected\":{\"id\":\"1049\",\"type\":\"Selection\"},\"selection_policy\":{\"id\":\"1050\",\"type\":\"UnionRenderers\"}},\"id\":\"1002\",\"type\":\"ColumnDataSource\"},{\"attributes\":{},\"id\":\"1027\",\"type\":\"HelpTool\"},{\"attributes\":{\"callback\":null},\"id\":\"1006\",\"type\":\"DataRange1d\"},{\"attributes\":{\"callback\":null,\"tooltips\":[[\"make\",\"@make\"],[\"horsepower\",\"$x\"],[\"price\",\"$y{$0}\"]]},\"id\":\"1028\",\"type\":\"HoverTool\"},{\"attributes\":{\"callback\":null},\"id\":\"1004\",\"type\":\"DataRange1d\"},{\"attributes\":{},\"id\":\"1008\",\"type\":\"LinearScale\"},{\"attributes\":{},\"id\":\"1010\",\"type\":\"LinearScale\"},{\"attributes\":{\"source\":{\"id\":\"1002\",\"type\":\"ColumnDataSource\"}},\"id\":\"1041\",\"type\":\"CDSView\"},{\"attributes\":{\"axis_label\":\"Horsepower\",\"formatter\":{\"id\":\"1044\",\"type\":\"BasicTickFormatter\"},\"ticker\":{\"id\":\"1013\",\"type\":\"BasicTicker\"}},\"id\":\"1012\",\"type\":\"LinearAxis\"},{\"attributes\":{},\"id\":\"1013\",\"type\":\"BasicTicker\"},{\"attributes\":{\"text\":\"\"},\"id\":\"1043\",\"type\":\"Title\"},{\"attributes\":{\"fill_alpha\":{\"value\":0.1},\"fill_color\":{\"value\":\"#1f77b4\"},\"line_alpha\":{\"value\":0.1},\"line_color\":{\"value\":\"#1f77b4\"},\"size\":{\"units\":\"screen\",\"value\":8},\"x\":{\"field\":\"x\"},\"y\":{\"field\":\"y\"}},\"id\":\"1039\",\"type\":\"Circle\"},{\"attributes\":{\"ticker\":{\"id\":\"1013\",\"type\":\"BasicTicker\"}},\"id\":\"1016\",\"type\":\"Grid\"},{\"attributes\":{},\"id\":\"1044\",\"type\":\"BasicTickFormatter\"}],\"root_ids\":[\"1003\"]},\"title\":\"Bokeh Application\",\"version\":\"1.1.0\"}};\n",
       "  var render_items = [{\"docid\":\"7c949832-dfd0-44f7-b6fb-2e53e3c6b40d\",\"roots\":{\"1003\":\"cf8f35fc-8a6d-4342-848b-7f9077f2b148\"}}];\n",
       "  root.Bokeh.embed.embed_items_notebook(docs_json, render_items);\n",
       "\n",
       "  }\n",
       "  if (root.Bokeh !== undefined) {\n",
       "    embed_document(root);\n",
       "  } else {\n",
       "    var attempts = 0;\n",
       "    var timer = setInterval(function(root) {\n",
       "      if (root.Bokeh !== undefined) {\n",
       "        embed_document(root);\n",
       "        clearInterval(timer);\n",
       "      }\n",
       "      attempts++;\n",
       "      if (attempts > 100) {\n",
       "        console.log(\"Bokeh: ERROR: Unable to run BokehJS code because BokehJS library is missing\");\n",
       "        clearInterval(timer);\n",
       "      }\n",
       "    }, 10, root)\n",
       "  }\n",
       "})(window);"
      ],
      "application/vnd.bokehjs_exec.v0+json": ""
     },
     "metadata": {
      "application/vnd.bokehjs_exec.v0+json": {
       "id": "1003"
      }
     },
     "output_type": "display_data"
    }
   ],
   "source": [
    "from bokeh.io import output_notebook\n",
    "from bokeh.plotting import ColumnDataSource, figure, show\n",
    "\n",
    "# enable notebook output\n",
    "output_notebook()\n",
    "\n",
    "source = ColumnDataSource(data=dict(\n",
    "    x=data['horsepower'],\n",
    "    y=data['price'],\n",
    "    make=data['make'],\n",
    "))\n",
    "\n",
    "tooltips = [\n",
    "    ('make', '@make'),\n",
    "    ('horsepower', '$x'),\n",
    "    ('price', '$y{$0}')\n",
    "]\n",
    "\n",
    "p = figure(plot_width=600, plot_height=400, tooltips=tooltips)\n",
    "p.xaxis.axis_label = 'Horsepower'\n",
    "p.yaxis.axis_label = 'Price'\n",
    "\n",
    "# add a square renderer with a size, color, and alpha\n",
    "p.circle('x', 'y', source=source, size=8, color='blue', alpha=0.5)\n",
    "\n",
    "# show the results\n",
    "show(p)"
   ]
  },
  {
   "cell_type": "code",
   "execution_count": 6,
   "metadata": {},
   "outputs": [],
   "source": [
    "from sklearn.model_selection import train_test_split\n",
    "train, test=  train_test_split(data, test_size = 0.25)"
   ]
  },
  {
   "cell_type": "markdown",
   "metadata": {},
   "source": [
    "> ## **Linear Regression**"
   ]
  },
  {
   "cell_type": "code",
   "execution_count": 7,
   "metadata": {},
   "outputs": [
    {
     "name": "stdout",
     "output_type": "stream",
     "text": [
      "slope: 164.1407969929826 intercept: -3764.7958156641816\n"
     ]
    }
   ],
   "source": [
    "from sklearn import linear_model\n",
    "model = linear_model.LinearRegression()\n",
    "training_x = np.array(train['horsepower']).reshape(-1,1)\n",
    "training_y = np.array(train['price'])\n",
    "model.fit(training_x, training_y)\n",
    "slope = np.asscalar(np.squeeze(model.coef_))\n",
    "intercept = model.intercept_\n",
    "print('slope:', slope, 'intercept:', intercept)\n"
   ]
  },
  {
   "cell_type": "code",
   "execution_count": 8,
   "metadata": {},
   "outputs": [
    {
     "data": {
      "text/html": [
       "\n",
       "\n",
       "\n",
       "\n",
       "\n",
       "\n",
       "  <div class=\"bk-root\" id=\"f45e3d77-1497-401a-a26a-0802945ff200\" data-root-id=\"1003\"></div>\n"
      ]
     },
     "metadata": {},
     "output_type": "display_data"
    },
    {
     "data": {
      "application/javascript": [
       "(function(root) {\n",
       "  function embed_document(root) {\n",
       "    \n",
       "  var docs_json = {\"9357a4e5-4158-4707-bf59-c328a7b452ba\":{\"roots\":{\"references\":[{\"attributes\":{\"below\":[{\"id\":\"1012\",\"type\":\"LinearAxis\"}],\"center\":[{\"id\":\"1016\",\"type\":\"Grid\"},{\"id\":\"1021\",\"type\":\"Grid\"},{\"id\":\"1105\",\"type\":\"Slope\"}],\"left\":[{\"id\":\"1017\",\"type\":\"LinearAxis\"}],\"plot_height\":400,\"renderers\":[{\"id\":\"1040\",\"type\":\"GlyphRenderer\"}],\"title\":{\"id\":\"1043\",\"type\":\"Title\"},\"toolbar\":{\"id\":\"1029\",\"type\":\"Toolbar\"},\"x_range\":{\"id\":\"1004\",\"type\":\"DataRange1d\"},\"x_scale\":{\"id\":\"1008\",\"type\":\"LinearScale\"},\"y_range\":{\"id\":\"1006\",\"type\":\"DataRange1d\"},\"y_scale\":{\"id\":\"1010\",\"type\":\"LinearScale\"}},\"id\":\"1003\",\"subtype\":\"Figure\",\"type\":\"Plot\"},{\"attributes\":{\"axis_label\":\"Price\",\"formatter\":{\"id\":\"1046\",\"type\":\"BasicTickFormatter\"},\"ticker\":{\"id\":\"1018\",\"type\":\"BasicTicker\"}},\"id\":\"1017\",\"type\":\"LinearAxis\"},{\"attributes\":{},\"id\":\"1046\",\"type\":\"BasicTickFormatter\"},{\"attributes\":{},\"id\":\"1018\",\"type\":\"BasicTicker\"},{\"attributes\":{\"fill_alpha\":{\"value\":0.5},\"fill_color\":{\"value\":\"blue\"},\"line_alpha\":{\"value\":0.5},\"line_color\":{\"value\":\"blue\"},\"size\":{\"units\":\"screen\",\"value\":8},\"x\":{\"field\":\"x\"},\"y\":{\"field\":\"y\"}},\"id\":\"1038\",\"type\":\"Circle\"},{\"attributes\":{\"bottom_units\":\"screen\",\"fill_alpha\":{\"value\":0.5},\"fill_color\":{\"value\":\"lightgrey\"},\"left_units\":\"screen\",\"level\":\"overlay\",\"line_alpha\":{\"value\":1.0},\"line_color\":{\"value\":\"black\"},\"line_dash\":[4,4],\"line_width\":{\"value\":2},\"render_mode\":\"css\",\"right_units\":\"screen\",\"top_units\":\"screen\"},\"id\":\"1048\",\"type\":\"BoxAnnotation\"},{\"attributes\":{\"dimension\":1,\"ticker\":{\"id\":\"1018\",\"type\":\"BasicTicker\"}},\"id\":\"1021\",\"type\":\"Grid\"},{\"attributes\":{},\"id\":\"1049\",\"type\":\"Selection\"},{\"attributes\":{\"active_drag\":\"auto\",\"active_inspect\":\"auto\",\"active_multi\":null,\"active_scroll\":\"auto\",\"active_tap\":\"auto\",\"tools\":[{\"id\":\"1022\",\"type\":\"PanTool\"},{\"id\":\"1023\",\"type\":\"WheelZoomTool\"},{\"id\":\"1024\",\"type\":\"BoxZoomTool\"},{\"id\":\"1025\",\"type\":\"SaveTool\"},{\"id\":\"1026\",\"type\":\"ResetTool\"},{\"id\":\"1027\",\"type\":\"HelpTool\"},{\"id\":\"1028\",\"type\":\"HoverTool\"}]},\"id\":\"1029\",\"type\":\"Toolbar\"},{\"attributes\":{},\"id\":\"1050\",\"type\":\"UnionRenderers\"},{\"attributes\":{\"gradient\":164.1407969929826,\"line_color\":{\"value\":\"red\"},\"line_width\":{\"value\":3},\"y_intercept\":-3764.7958156641816},\"id\":\"1105\",\"type\":\"Slope\"},{\"attributes\":{},\"id\":\"1022\",\"type\":\"PanTool\"},{\"attributes\":{},\"id\":\"1023\",\"type\":\"WheelZoomTool\"},{\"attributes\":{\"overlay\":{\"id\":\"1048\",\"type\":\"BoxAnnotation\"}},\"id\":\"1024\",\"type\":\"BoxZoomTool\"},{\"attributes\":{\"data_source\":{\"id\":\"1002\",\"type\":\"ColumnDataSource\"},\"glyph\":{\"id\":\"1038\",\"type\":\"Circle\"},\"hover_glyph\":null,\"muted_glyph\":null,\"nonselection_glyph\":{\"id\":\"1039\",\"type\":\"Circle\"},\"selection_glyph\":null,\"view\":{\"id\":\"1041\",\"type\":\"CDSView\"}},\"id\":\"1040\",\"type\":\"GlyphRenderer\"},{\"attributes\":{},\"id\":\"1025\",\"type\":\"SaveTool\"},{\"attributes\":{},\"id\":\"1026\",\"type\":\"ResetTool\"},{\"attributes\":{\"callback\":null,\"data\":{\"make\":[\"alfa-romero\",\"alfa-romero\",\"alfa-romero\",\"audi\",\"audi\",\"audi\",\"audi\",\"audi\",\"audi\",\"bmw\",\"bmw\",\"bmw\",\"bmw\",\"bmw\",\"bmw\",\"bmw\",\"bmw\",\"chevrolet\",\"chevrolet\",\"chevrolet\",\"dodge\",\"dodge\",\"dodge\",\"dodge\",\"dodge\",\"dodge\",\"dodge\",\"dodge\",\"dodge\",\"honda\",\"honda\",\"honda\",\"honda\",\"honda\",\"honda\",\"honda\",\"honda\",\"honda\",\"honda\",\"honda\",\"honda\",\"honda\",\"isuzu\",\"isuzu\",\"jaguar\",\"jaguar\",\"jaguar\",\"mazda\",\"mazda\",\"mazda\",\"mazda\",\"mazda\",\"mazda\",\"mazda\",\"mazda\",\"mazda\",\"mazda\",\"mazda\",\"mazda\",\"mazda\",\"mazda\",\"mazda\",\"mazda\",\"mazda\",\"mercedes-benz\",\"mercedes-benz\",\"mercedes-benz\",\"mercedes-benz\",\"mercedes-benz\",\"mercedes-benz\",\"mercedes-benz\",\"mercedes-benz\",\"mercury\",\"mitsubishi\",\"mitsubishi\",\"mitsubishi\",\"mitsubishi\",\"mitsubishi\",\"mitsubishi\",\"mitsubishi\",\"mitsubishi\",\"mitsubishi\",\"mitsubishi\",\"mitsubishi\",\"mitsubishi\",\"mitsubishi\",\"nissan\",\"nissan\",\"nissan\",\"nissan\",\"nissan\",\"nissan\",\"nissan\",\"nissan\",\"nissan\",\"nissan\",\"nissan\",\"nissan\",\"nissan\",\"nissan\",\"nissan\",\"nissan\",\"nissan\",\"nissan\",\"peugot\",\"peugot\",\"peugot\",\"peugot\",\"peugot\",\"peugot\",\"peugot\",\"peugot\",\"peugot\",\"peugot\",\"peugot\",\"plymouth\",\"plymouth\",\"plymouth\",\"plymouth\",\"plymouth\",\"plymouth\",\"plymouth\",\"porsche\",\"porsche\",\"porsche\",\"porsche\",\"saab\",\"saab\",\"saab\",\"saab\",\"saab\",\"saab\",\"subaru\",\"subaru\",\"subaru\",\"subaru\",\"subaru\",\"subaru\",\"subaru\",\"subaru\",\"subaru\",\"subaru\",\"subaru\",\"subaru\",\"toyota\",\"toyota\",\"toyota\",\"toyota\",\"toyota\",\"toyota\",\"toyota\",\"toyota\",\"toyota\",\"toyota\",\"toyota\",\"toyota\",\"toyota\",\"toyota\",\"toyota\",\"toyota\",\"toyota\",\"toyota\",\"toyota\",\"toyota\",\"toyota\",\"toyota\",\"toyota\",\"toyota\",\"toyota\",\"toyota\",\"toyota\",\"toyota\",\"toyota\",\"toyota\",\"toyota\",\"toyota\",\"volkswagen\",\"volkswagen\",\"volkswagen\",\"volkswagen\",\"volkswagen\",\"volkswagen\",\"volkswagen\",\"volkswagen\",\"volkswagen\",\"volkswagen\",\"volkswagen\",\"volkswagen\",\"volvo\",\"volvo\",\"volvo\",\"volvo\",\"volvo\",\"volvo\",\"volvo\",\"volvo\",\"volvo\",\"volvo\",\"volvo\"],\"x\":{\"__ndarray__\":\"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\",\"dtype\":\"float64\",\"shape\":[199]},\"y\":{\"__ndarray__\":\"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\",\"dtype\":\"float64\",\"shape\":[199]}},\"selected\":{\"id\":\"1049\",\"type\":\"Selection\"},\"selection_policy\":{\"id\":\"1050\",\"type\":\"UnionRenderers\"}},\"id\":\"1002\",\"type\":\"ColumnDataSource\"},{\"attributes\":{},\"id\":\"1027\",\"type\":\"HelpTool\"},{\"attributes\":{\"callback\":null},\"id\":\"1006\",\"type\":\"DataRange1d\"},{\"attributes\":{\"callback\":null,\"tooltips\":[[\"make\",\"@make\"],[\"horsepower\",\"$x\"],[\"price\",\"$y{$0}\"]]},\"id\":\"1028\",\"type\":\"HoverTool\"},{\"attributes\":{\"callback\":null},\"id\":\"1004\",\"type\":\"DataRange1d\"},{\"attributes\":{},\"id\":\"1008\",\"type\":\"LinearScale\"},{\"attributes\":{},\"id\":\"1010\",\"type\":\"LinearScale\"},{\"attributes\":{\"source\":{\"id\":\"1002\",\"type\":\"ColumnDataSource\"}},\"id\":\"1041\",\"type\":\"CDSView\"},{\"attributes\":{\"axis_label\":\"Horsepower\",\"formatter\":{\"id\":\"1044\",\"type\":\"BasicTickFormatter\"},\"ticker\":{\"id\":\"1013\",\"type\":\"BasicTicker\"}},\"id\":\"1012\",\"type\":\"LinearAxis\"},{\"attributes\":{},\"id\":\"1013\",\"type\":\"BasicTicker\"},{\"attributes\":{\"text\":\"\"},\"id\":\"1043\",\"type\":\"Title\"},{\"attributes\":{\"fill_alpha\":{\"value\":0.1},\"fill_color\":{\"value\":\"#1f77b4\"},\"line_alpha\":{\"value\":0.1},\"line_color\":{\"value\":\"#1f77b4\"},\"size\":{\"units\":\"screen\",\"value\":8},\"x\":{\"field\":\"x\"},\"y\":{\"field\":\"y\"}},\"id\":\"1039\",\"type\":\"Circle\"},{\"attributes\":{\"ticker\":{\"id\":\"1013\",\"type\":\"BasicTicker\"}},\"id\":\"1016\",\"type\":\"Grid\"},{\"attributes\":{},\"id\":\"1044\",\"type\":\"BasicTickFormatter\"}],\"root_ids\":[\"1003\"]},\"title\":\"Bokeh Application\",\"version\":\"1.1.0\"}};\n",
       "  var render_items = [{\"docid\":\"9357a4e5-4158-4707-bf59-c328a7b452ba\",\"roots\":{\"1003\":\"f45e3d77-1497-401a-a26a-0802945ff200\"}}];\n",
       "  root.Bokeh.embed.embed_items_notebook(docs_json, render_items);\n",
       "\n",
       "  }\n",
       "  if (root.Bokeh !== undefined) {\n",
       "    embed_document(root);\n",
       "  } else {\n",
       "    var attempts = 0;\n",
       "    var timer = setInterval(function(root) {\n",
       "      if (root.Bokeh !== undefined) {\n",
       "        embed_document(root);\n",
       "        clearInterval(timer);\n",
       "      }\n",
       "      attempts++;\n",
       "      if (attempts > 100) {\n",
       "        console.log(\"Bokeh: ERROR: Unable to run BokehJS code because BokehJS library is missing\");\n",
       "        clearInterval(timer);\n",
       "      }\n",
       "    }, 10, root)\n",
       "  }\n",
       "})(window);"
      ],
      "application/vnd.bokehjs_exec.v0+json": ""
     },
     "metadata": {
      "application/vnd.bokehjs_exec.v0+json": {
       "id": "1003"
      }
     },
     "output_type": "display_data"
    }
   ],
   "source": [
    "# Now let's add the line to our graph\n",
    "from bokeh.models import Slope\n",
    "best_line = Slope(gradient=slope, y_intercept=intercept, line_color='red', line_width=3)\n",
    "p.add_layout(best_line)\n",
    "show(p)"
   ]
  },
  {
   "cell_type": "code",
   "execution_count": 9,
   "metadata": {},
   "outputs": [
    {
     "name": "stdout",
     "output_type": "stream",
     "text": [
      "training mean error: 3219.273175457916 training mse: 20668013.48082161 training r2: 0.6340878965258319\n",
      "test mean error: 3640.3861660541424 test mse: 25254843.37481148 test r2: 0.6967184982681818\n"
     ]
    }
   ],
   "source": [
    "from sklearn.metrics import mean_absolute_error, mean_squared_error, r2_score\n",
    "\n",
    "# function to predict the mean_absolute_error, mean_squared_error and r-squared\n",
    "def predict_metrics(lr, x, y):\n",
    "    pred = lr.predict(x)\n",
    "    mae = mean_absolute_error(y, pred)\n",
    "    mse = mean_squared_error(y, pred)\n",
    "    r2 = r2_score(y, pred)\n",
    "    return mae, mse, r2\n",
    "\n",
    "training_mae, training_mse, training_r2 = predict_metrics(model, training_x, training_y)\n",
    "\n",
    "test_x = np.array(test['horsepower']).reshape(-1,1)\n",
    "test_y = np.array(test['price'])\n",
    "\n",
    "test_mae, test_mse, test_r2 = predict_metrics(model, test_x, test_y)\n",
    "\n",
    "print('training mean error:', training_mae, 'training mse:', training_mse, 'training r2:', training_r2)\n",
    "print('test mean error:', test_mae, 'test mse:', test_mse, 'test r2:', test_r2)"
   ]
  },
  {
   "cell_type": "code",
   "execution_count": 10,
   "metadata": {},
   "outputs": [
    {
     "name": "stdout",
     "output_type": "stream",
     "text": [
      "horsepower (0.8105330821322063, 1.1891278276946011e-47)\n",
      "engine-size (0.8738869517981516, 1.2650674479074428e-63)\n",
      "peak-rpm (-0.10164886620219901, 0.15311824317199588)\n",
      "length (0.6939647745646871, 6.39831060305001e-30)\n",
      "width (0.7538710519013427, 8.679834788813268e-38)\n",
      "height (0.13499022754460993, 0.05730390719825449)\n"
     ]
    }
   ],
   "source": [
    "#Getting the correlation between other variables/columns\n",
    "\n",
    "cols = ['horsepower', 'engine-size', 'peak-rpm', 'length', 'width', 'height']\n",
    "for col in cols:\n",
    "    data[col] = pd.to_numeric(data[col], errors = 'coerce')\n",
    "data.dropna(subset = ['price', 'horsepower'], inplace = True)\n",
    "\n",
    "# Let's see how strongly each column is correlated to price\n",
    "for col in cols:\n",
    "    print(col, pearsonr(data[col], data['price']))"
   ]
  },
  {
   "cell_type": "code",
   "execution_count": 11,
   "metadata": {},
   "outputs": [],
   "source": [
    "# split train and test data as before\n",
    "model_cols = ['horsepower', 'engine-size', 'length', 'width']\n",
    "multi_x = np.column_stack(tuple(data[col] for col in model_cols))\n",
    "y = data['price']\n",
    "\n",
    "multi_train_x, multi_test_x, multi_train_y, multi_test_y = train_test_split(multi_x, y, test_size = 0.25)\n",
    "\n"
   ]
  },
  {
   "cell_type": "code",
   "execution_count": 12,
   "metadata": {},
   "outputs": [
    {
     "name": "stdout",
     "output_type": "stream",
     "text": [
      "intercept: -70449.59753783692\n",
      "Co-efficients: {'horsepower': 51.227366167753, 'engine-size': 87.34990876326536, 'length': 13.091077322191337, 'width': 984.6093238711867}\n"
     ]
    }
   ],
   "source": [
    "# fit the model as before\n",
    "multi_model = linear_model.LinearRegression()\n",
    "multi_model.fit(multi_train_x, multi_train_y)\n",
    "multi_model_intercept = multi_model.intercept_\n",
    "multi_coefficient = dict(zip(model_cols,multi_model.coef_))\n",
    "print('intercept:', multi_model_intercept)\n",
    "print('Co-efficients:', multi_coefficient)\n"
   ]
  },
  {
   "cell_type": "code",
   "execution_count": 13,
   "metadata": {},
   "outputs": [
    {
     "name": "stdout",
     "output_type": "stream",
     "text": [
      "m_train_mean_error: 2572.2100149468847 m_train_mae: 12674416.082048671 m_train_r2 0.7930847746688672\n",
      "m_test_mean_error: 2025.0862596304514 m_test_mae: 8848057.594634807 m_test_r2 0.8726618322267597\n"
     ]
    }
   ],
   "source": [
    "# calculate error metrics\n",
    "m_train_mae, m_train_mse, m_train_r2 = predict_metrics(multi_model, multi_train_x, multi_train_y)\n",
    "m_test_mae, m_test_mse, m_test_r2 = predict_metrics(multi_model, multi_test_x, multi_test_y)\n",
    "\n",
    "print('m_train_mean_error:', m_train_mae, 'm_train_mae:', m_train_mse, 'm_train_r2', m_train_r2 )\n",
    "print('m_test_mean_error:', m_test_mae, 'm_test_mae:', m_test_mse, 'm_test_r2', m_test_r2 )"
   ]
  },
  {
   "cell_type": "markdown",
   "metadata": {},
   "source": [
    "> ## **Ridge Regression**"
   ]
  },
  {
   "cell_type": "code",
   "execution_count": 14,
   "metadata": {},
   "outputs": [
    {
     "name": "stdout",
     "output_type": "stream",
     "text": [
      "r_train_mean_error: 2562.949776684909 r_train_mae: 12721657.377159065 r_train_r2 0.7923135404629342\n",
      "r_test_mean_error: 2049.4140405702465 r_test_mae: 9037184.335117051 r_test_r2 0.8699399859511956\n"
     ]
    }
   ],
   "source": [
    "from sklearn.linear_model import Ridge\n",
    "ridge = Ridge(alpha = 0.05, normalize = True)\n",
    "ridge.fit(multi_train_x, multi_train_y)\n",
    "\n",
    "r_train_mae, r_train_mse, r_train_r2 = predict_metrics(ridge, multi_train_x, multi_train_y)\n",
    "r_test_mae, r_test_mse, r_test_r2 = predict_metrics(ridge, multi_test_x, multi_test_y)\n",
    "\n",
    "print('r_train_mean_error:', r_train_mae, 'r_train_mae:', r_train_mse, 'r_train_r2', r_train_r2 )\n",
    "print('r_test_mean_error:', r_test_mae, 'r_test_mae:', r_test_mse, 'r_test_r2', r_test_r2 )\n"
   ]
  },
  {
   "cell_type": "markdown",
   "metadata": {},
   "source": [
    "> ## **Lasso Regression**"
   ]
  },
  {
   "cell_type": "code",
   "execution_count": 15,
   "metadata": {},
   "outputs": [
    {
     "name": "stdout",
     "output_type": "stream",
     "text": [
      "train_mean_error: 2572.1222719028815 train_mae: 12674416.522169987 train_r2 0.7930847674836997\n",
      "test_mean_error: 2025.0690480576252 test_mae: 8848238.937169153 test_r2 0.8726592224080718\n"
     ]
    }
   ],
   "source": [
    "from sklearn.linear_model import Lasso\n",
    "lasso_model = Lasso(alpha = 0.05, normalize = True)\n",
    "lasso_model.fit(multi_train_x, multi_train_y)\n",
    "\n",
    "l_train_mae, l_train_mse, l_train_r2 = predict_metrics(lasso_model, multi_train_x, multi_train_y)\n",
    "l_test_mae, l_test_mse, l_test_r2 = predict_metrics(lasso_model, multi_test_x, multi_test_y)\n",
    "\n",
    "print('train_mean_error:', l_train_mae, 'train_mae:', l_train_mse, 'train_r2', l_train_r2 )\n",
    "print('test_mean_error:', l_test_mae, 'test_mae:', l_test_mse, 'test_r2', l_test_r2 )"
   ]
  },
  {
   "cell_type": "markdown",
   "metadata": {},
   "source": [
    "> ## **ElasticNet Regression**\n",
    "  In statistics and, in particular, in the fitting of linear or logistic regression models, the elastic net is a regularized regression method that linearly combines the L1 and L2 penalties of the lasso and ridge methods."
   ]
  },
  {
   "cell_type": "code",
   "execution_count": 16,
   "metadata": {},
   "outputs": [
    {
     "name": "stdout",
     "output_type": "stream",
     "text": [
      "train_mean_error: 2572.026718903673 train_mae: 12674442.586477466 train_r2 0.7930843419728106\n",
      "test_mean_error: 2024.0914080569275 test_mae: 8841648.940255782 test_r2 0.8727540633518162\n"
     ]
    }
   ],
   "source": [
    "from sklearn.linear_model import ElasticNet\n",
    "enet_model = ElasticNet(alpha=0.01, l1_ratio=0.5, normalize=False)\n",
    "enet_model.fit(multi_train_x, multi_train_y)\n",
    "\n",
    "el_train_mae, el_train_mse, el_train_r2 = predict_metrics(enet_model, multi_train_x, multi_train_y)\n",
    "el_test_mae, el_test_mse, el_test_r2 = predict_metrics(enet_model, multi_test_x, multi_test_y)\n",
    "\n",
    "print('train_mean_error:', el_train_mae, 'train_mae:', el_train_mse, 'train_r2', el_train_r2 )\n",
    "print('test_mean_error:', el_test_mae, 'test_mae:', el_test_mse, 'test_r2', el_test_r2 )"
   ]
  }
 ],
 "metadata": {
  "kernelspec": {
   "display_name": "Python 3",
   "language": "python",
   "name": "python3"
  },
  "language_info": {
   "codemirror_mode": {
    "name": "ipython",
    "version": 3
   },
   "file_extension": ".py",
   "mimetype": "text/x-python",
   "name": "python",
   "nbconvert_exporter": "python",
   "pygments_lexer": "ipython3",
   "version": "3.6.4"
  }
 },
 "nbformat": 4,
 "nbformat_minor": 1
}
